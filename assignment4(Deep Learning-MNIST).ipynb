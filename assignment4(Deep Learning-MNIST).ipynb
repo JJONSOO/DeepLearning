{
  "nbformat": 4,
  "nbformat_minor": 0,
  "metadata": {
    "colab": {
      "name": "MNIST Deep Learning Practice.ipynb",
      "provenance": [],
      "collapsed_sections": []
    },
    "kernelspec": {
      "name": "python3",
      "display_name": "Python 3"
    },
    "widgets": {
      "application/vnd.jupyter.widget-state+json": {
        "4827007306564bbebb09b8d0a3a2a58a": {
          "model_module": "@jupyter-widgets/controls",
          "model_name": "HBoxModel",
          "state": {
            "_view_name": "HBoxView",
            "_dom_classes": [],
            "_model_name": "HBoxModel",
            "_view_module": "@jupyter-widgets/controls",
            "_model_module_version": "1.5.0",
            "_view_count": null,
            "_view_module_version": "1.5.0",
            "box_style": "",
            "layout": "IPY_MODEL_a1545b5b318e493e9abf6a6cdefc079e",
            "_model_module": "@jupyter-widgets/controls",
            "children": [
              "IPY_MODEL_75f59645ce17459c8ed2bed7e6d7ed72",
              "IPY_MODEL_0865cf31fa674b60b6d8563e53d72bd0"
            ]
          }
        },
        "a1545b5b318e493e9abf6a6cdefc079e": {
          "model_module": "@jupyter-widgets/base",
          "model_name": "LayoutModel",
          "state": {
            "_view_name": "LayoutView",
            "grid_template_rows": null,
            "right": null,
            "justify_content": null,
            "_view_module": "@jupyter-widgets/base",
            "overflow": null,
            "_model_module_version": "1.2.0",
            "_view_count": null,
            "flex_flow": null,
            "width": null,
            "min_width": null,
            "border": null,
            "align_items": null,
            "bottom": null,
            "_model_module": "@jupyter-widgets/base",
            "top": null,
            "grid_column": null,
            "overflow_y": null,
            "overflow_x": null,
            "grid_auto_flow": null,
            "grid_area": null,
            "grid_template_columns": null,
            "flex": null,
            "_model_name": "LayoutModel",
            "justify_items": null,
            "grid_row": null,
            "max_height": null,
            "align_content": null,
            "visibility": null,
            "align_self": null,
            "height": null,
            "min_height": null,
            "padding": null,
            "grid_auto_rows": null,
            "grid_gap": null,
            "max_width": null,
            "order": null,
            "_view_module_version": "1.2.0",
            "grid_template_areas": null,
            "object_position": null,
            "object_fit": null,
            "grid_auto_columns": null,
            "margin": null,
            "display": null,
            "left": null
          }
        },
        "75f59645ce17459c8ed2bed7e6d7ed72": {
          "model_module": "@jupyter-widgets/controls",
          "model_name": "FloatProgressModel",
          "state": {
            "_view_name": "ProgressView",
            "style": "IPY_MODEL_b6fea4dff79b48af80e458aa19fabe99",
            "_dom_classes": [],
            "description": "",
            "_model_name": "FloatProgressModel",
            "bar_style": "info",
            "max": 1,
            "_view_module": "@jupyter-widgets/controls",
            "_model_module_version": "1.5.0",
            "value": 1,
            "_view_count": null,
            "_view_module_version": "1.5.0",
            "orientation": "horizontal",
            "min": 0,
            "description_tooltip": null,
            "_model_module": "@jupyter-widgets/controls",
            "layout": "IPY_MODEL_4d0ce63e92e44189b0be1e55a6ee1b46"
          }
        },
        "0865cf31fa674b60b6d8563e53d72bd0": {
          "model_module": "@jupyter-widgets/controls",
          "model_name": "HTMLModel",
          "state": {
            "_view_name": "HTMLView",
            "style": "IPY_MODEL_97f3b53c17604892a68ace8b94f9f121",
            "_dom_classes": [],
            "description": "",
            "_model_name": "HTMLModel",
            "placeholder": "​",
            "_view_module": "@jupyter-widgets/controls",
            "_model_module_version": "1.5.0",
            "value": " 9920512/? [00:20&lt;00:00, 794885.58it/s]",
            "_view_count": null,
            "_view_module_version": "1.5.0",
            "description_tooltip": null,
            "_model_module": "@jupyter-widgets/controls",
            "layout": "IPY_MODEL_47be3ce572304fd78e70489254fb7f20"
          }
        },
        "b6fea4dff79b48af80e458aa19fabe99": {
          "model_module": "@jupyter-widgets/controls",
          "model_name": "ProgressStyleModel",
          "state": {
            "_view_name": "StyleView",
            "_model_name": "ProgressStyleModel",
            "description_width": "initial",
            "_view_module": "@jupyter-widgets/base",
            "_model_module_version": "1.5.0",
            "_view_count": null,
            "_view_module_version": "1.2.0",
            "bar_color": null,
            "_model_module": "@jupyter-widgets/controls"
          }
        },
        "4d0ce63e92e44189b0be1e55a6ee1b46": {
          "model_module": "@jupyter-widgets/base",
          "model_name": "LayoutModel",
          "state": {
            "_view_name": "LayoutView",
            "grid_template_rows": null,
            "right": null,
            "justify_content": null,
            "_view_module": "@jupyter-widgets/base",
            "overflow": null,
            "_model_module_version": "1.2.0",
            "_view_count": null,
            "flex_flow": null,
            "width": null,
            "min_width": null,
            "border": null,
            "align_items": null,
            "bottom": null,
            "_model_module": "@jupyter-widgets/base",
            "top": null,
            "grid_column": null,
            "overflow_y": null,
            "overflow_x": null,
            "grid_auto_flow": null,
            "grid_area": null,
            "grid_template_columns": null,
            "flex": null,
            "_model_name": "LayoutModel",
            "justify_items": null,
            "grid_row": null,
            "max_height": null,
            "align_content": null,
            "visibility": null,
            "align_self": null,
            "height": null,
            "min_height": null,
            "padding": null,
            "grid_auto_rows": null,
            "grid_gap": null,
            "max_width": null,
            "order": null,
            "_view_module_version": "1.2.0",
            "grid_template_areas": null,
            "object_position": null,
            "object_fit": null,
            "grid_auto_columns": null,
            "margin": null,
            "display": null,
            "left": null
          }
        },
        "97f3b53c17604892a68ace8b94f9f121": {
          "model_module": "@jupyter-widgets/controls",
          "model_name": "DescriptionStyleModel",
          "state": {
            "_view_name": "StyleView",
            "_model_name": "DescriptionStyleModel",
            "description_width": "",
            "_view_module": "@jupyter-widgets/base",
            "_model_module_version": "1.5.0",
            "_view_count": null,
            "_view_module_version": "1.2.0",
            "_model_module": "@jupyter-widgets/controls"
          }
        },
        "47be3ce572304fd78e70489254fb7f20": {
          "model_module": "@jupyter-widgets/base",
          "model_name": "LayoutModel",
          "state": {
            "_view_name": "LayoutView",
            "grid_template_rows": null,
            "right": null,
            "justify_content": null,
            "_view_module": "@jupyter-widgets/base",
            "overflow": null,
            "_model_module_version": "1.2.0",
            "_view_count": null,
            "flex_flow": null,
            "width": null,
            "min_width": null,
            "border": null,
            "align_items": null,
            "bottom": null,
            "_model_module": "@jupyter-widgets/base",
            "top": null,
            "grid_column": null,
            "overflow_y": null,
            "overflow_x": null,
            "grid_auto_flow": null,
            "grid_area": null,
            "grid_template_columns": null,
            "flex": null,
            "_model_name": "LayoutModel",
            "justify_items": null,
            "grid_row": null,
            "max_height": null,
            "align_content": null,
            "visibility": null,
            "align_self": null,
            "height": null,
            "min_height": null,
            "padding": null,
            "grid_auto_rows": null,
            "grid_gap": null,
            "max_width": null,
            "order": null,
            "_view_module_version": "1.2.0",
            "grid_template_areas": null,
            "object_position": null,
            "object_fit": null,
            "grid_auto_columns": null,
            "margin": null,
            "display": null,
            "left": null
          }
        },
        "387983ff28404f05a828220752dff73d": {
          "model_module": "@jupyter-widgets/controls",
          "model_name": "HBoxModel",
          "state": {
            "_view_name": "HBoxView",
            "_dom_classes": [],
            "_model_name": "HBoxModel",
            "_view_module": "@jupyter-widgets/controls",
            "_model_module_version": "1.5.0",
            "_view_count": null,
            "_view_module_version": "1.5.0",
            "box_style": "",
            "layout": "IPY_MODEL_00f75a4fa54e4abe8668ad47b0baab7d",
            "_model_module": "@jupyter-widgets/controls",
            "children": [
              "IPY_MODEL_a035c58054414b80b4eed5233344ba47",
              "IPY_MODEL_130f875e837642f797daed55f5685468"
            ]
          }
        },
        "00f75a4fa54e4abe8668ad47b0baab7d": {
          "model_module": "@jupyter-widgets/base",
          "model_name": "LayoutModel",
          "state": {
            "_view_name": "LayoutView",
            "grid_template_rows": null,
            "right": null,
            "justify_content": null,
            "_view_module": "@jupyter-widgets/base",
            "overflow": null,
            "_model_module_version": "1.2.0",
            "_view_count": null,
            "flex_flow": null,
            "width": null,
            "min_width": null,
            "border": null,
            "align_items": null,
            "bottom": null,
            "_model_module": "@jupyter-widgets/base",
            "top": null,
            "grid_column": null,
            "overflow_y": null,
            "overflow_x": null,
            "grid_auto_flow": null,
            "grid_area": null,
            "grid_template_columns": null,
            "flex": null,
            "_model_name": "LayoutModel",
            "justify_items": null,
            "grid_row": null,
            "max_height": null,
            "align_content": null,
            "visibility": null,
            "align_self": null,
            "height": null,
            "min_height": null,
            "padding": null,
            "grid_auto_rows": null,
            "grid_gap": null,
            "max_width": null,
            "order": null,
            "_view_module_version": "1.2.0",
            "grid_template_areas": null,
            "object_position": null,
            "object_fit": null,
            "grid_auto_columns": null,
            "margin": null,
            "display": null,
            "left": null
          }
        },
        "a035c58054414b80b4eed5233344ba47": {
          "model_module": "@jupyter-widgets/controls",
          "model_name": "FloatProgressModel",
          "state": {
            "_view_name": "ProgressView",
            "style": "IPY_MODEL_8e5391e699f84a55b721af22bf816ff3",
            "_dom_classes": [],
            "description": "  0%",
            "_model_name": "FloatProgressModel",
            "bar_style": "info",
            "max": 1,
            "_view_module": "@jupyter-widgets/controls",
            "_model_module_version": "1.5.0",
            "value": 0,
            "_view_count": null,
            "_view_module_version": "1.5.0",
            "orientation": "horizontal",
            "min": 0,
            "description_tooltip": null,
            "_model_module": "@jupyter-widgets/controls",
            "layout": "IPY_MODEL_7bc73dab7198456e861a72c21af2347d"
          }
        },
        "130f875e837642f797daed55f5685468": {
          "model_module": "@jupyter-widgets/controls",
          "model_name": "HTMLModel",
          "state": {
            "_view_name": "HTMLView",
            "style": "IPY_MODEL_51c193ece4b34a868aea85190a03cfd9",
            "_dom_classes": [],
            "description": "",
            "_model_name": "HTMLModel",
            "placeholder": "​",
            "_view_module": "@jupyter-widgets/controls",
            "_model_module_version": "1.5.0",
            "value": " 0/28881 [00:00&lt;?, ?it/s]",
            "_view_count": null,
            "_view_module_version": "1.5.0",
            "description_tooltip": null,
            "_model_module": "@jupyter-widgets/controls",
            "layout": "IPY_MODEL_1f5b94a0cb8c4179aeab675d213aa51c"
          }
        },
        "8e5391e699f84a55b721af22bf816ff3": {
          "model_module": "@jupyter-widgets/controls",
          "model_name": "ProgressStyleModel",
          "state": {
            "_view_name": "StyleView",
            "_model_name": "ProgressStyleModel",
            "description_width": "initial",
            "_view_module": "@jupyter-widgets/base",
            "_model_module_version": "1.5.0",
            "_view_count": null,
            "_view_module_version": "1.2.0",
            "bar_color": null,
            "_model_module": "@jupyter-widgets/controls"
          }
        },
        "7bc73dab7198456e861a72c21af2347d": {
          "model_module": "@jupyter-widgets/base",
          "model_name": "LayoutModel",
          "state": {
            "_view_name": "LayoutView",
            "grid_template_rows": null,
            "right": null,
            "justify_content": null,
            "_view_module": "@jupyter-widgets/base",
            "overflow": null,
            "_model_module_version": "1.2.0",
            "_view_count": null,
            "flex_flow": null,
            "width": null,
            "min_width": null,
            "border": null,
            "align_items": null,
            "bottom": null,
            "_model_module": "@jupyter-widgets/base",
            "top": null,
            "grid_column": null,
            "overflow_y": null,
            "overflow_x": null,
            "grid_auto_flow": null,
            "grid_area": null,
            "grid_template_columns": null,
            "flex": null,
            "_model_name": "LayoutModel",
            "justify_items": null,
            "grid_row": null,
            "max_height": null,
            "align_content": null,
            "visibility": null,
            "align_self": null,
            "height": null,
            "min_height": null,
            "padding": null,
            "grid_auto_rows": null,
            "grid_gap": null,
            "max_width": null,
            "order": null,
            "_view_module_version": "1.2.0",
            "grid_template_areas": null,
            "object_position": null,
            "object_fit": null,
            "grid_auto_columns": null,
            "margin": null,
            "display": null,
            "left": null
          }
        },
        "51c193ece4b34a868aea85190a03cfd9": {
          "model_module": "@jupyter-widgets/controls",
          "model_name": "DescriptionStyleModel",
          "state": {
            "_view_name": "StyleView",
            "_model_name": "DescriptionStyleModel",
            "description_width": "",
            "_view_module": "@jupyter-widgets/base",
            "_model_module_version": "1.5.0",
            "_view_count": null,
            "_view_module_version": "1.2.0",
            "_model_module": "@jupyter-widgets/controls"
          }
        },
        "1f5b94a0cb8c4179aeab675d213aa51c": {
          "model_module": "@jupyter-widgets/base",
          "model_name": "LayoutModel",
          "state": {
            "_view_name": "LayoutView",
            "grid_template_rows": null,
            "right": null,
            "justify_content": null,
            "_view_module": "@jupyter-widgets/base",
            "overflow": null,
            "_model_module_version": "1.2.0",
            "_view_count": null,
            "flex_flow": null,
            "width": null,
            "min_width": null,
            "border": null,
            "align_items": null,
            "bottom": null,
            "_model_module": "@jupyter-widgets/base",
            "top": null,
            "grid_column": null,
            "overflow_y": null,
            "overflow_x": null,
            "grid_auto_flow": null,
            "grid_area": null,
            "grid_template_columns": null,
            "flex": null,
            "_model_name": "LayoutModel",
            "justify_items": null,
            "grid_row": null,
            "max_height": null,
            "align_content": null,
            "visibility": null,
            "align_self": null,
            "height": null,
            "min_height": null,
            "padding": null,
            "grid_auto_rows": null,
            "grid_gap": null,
            "max_width": null,
            "order": null,
            "_view_module_version": "1.2.0",
            "grid_template_areas": null,
            "object_position": null,
            "object_fit": null,
            "grid_auto_columns": null,
            "margin": null,
            "display": null,
            "left": null
          }
        },
        "193c2ab4649e430d8dbae1ae04d07131": {
          "model_module": "@jupyter-widgets/controls",
          "model_name": "HBoxModel",
          "state": {
            "_view_name": "HBoxView",
            "_dom_classes": [],
            "_model_name": "HBoxModel",
            "_view_module": "@jupyter-widgets/controls",
            "_model_module_version": "1.5.0",
            "_view_count": null,
            "_view_module_version": "1.5.0",
            "box_style": "",
            "layout": "IPY_MODEL_8d5f327621094826965caea1e1804c9f",
            "_model_module": "@jupyter-widgets/controls",
            "children": [
              "IPY_MODEL_45b80f48cf7a47d59c0cfd98021a71a8",
              "IPY_MODEL_c80971c6aa7f4bbca7a22a9d72a9d851"
            ]
          }
        },
        "8d5f327621094826965caea1e1804c9f": {
          "model_module": "@jupyter-widgets/base",
          "model_name": "LayoutModel",
          "state": {
            "_view_name": "LayoutView",
            "grid_template_rows": null,
            "right": null,
            "justify_content": null,
            "_view_module": "@jupyter-widgets/base",
            "overflow": null,
            "_model_module_version": "1.2.0",
            "_view_count": null,
            "flex_flow": null,
            "width": null,
            "min_width": null,
            "border": null,
            "align_items": null,
            "bottom": null,
            "_model_module": "@jupyter-widgets/base",
            "top": null,
            "grid_column": null,
            "overflow_y": null,
            "overflow_x": null,
            "grid_auto_flow": null,
            "grid_area": null,
            "grid_template_columns": null,
            "flex": null,
            "_model_name": "LayoutModel",
            "justify_items": null,
            "grid_row": null,
            "max_height": null,
            "align_content": null,
            "visibility": null,
            "align_self": null,
            "height": null,
            "min_height": null,
            "padding": null,
            "grid_auto_rows": null,
            "grid_gap": null,
            "max_width": null,
            "order": null,
            "_view_module_version": "1.2.0",
            "grid_template_areas": null,
            "object_position": null,
            "object_fit": null,
            "grid_auto_columns": null,
            "margin": null,
            "display": null,
            "left": null
          }
        },
        "45b80f48cf7a47d59c0cfd98021a71a8": {
          "model_module": "@jupyter-widgets/controls",
          "model_name": "FloatProgressModel",
          "state": {
            "_view_name": "ProgressView",
            "style": "IPY_MODEL_42210aa6466b4524b6535af53fa733f2",
            "_dom_classes": [],
            "description": "",
            "_model_name": "FloatProgressModel",
            "bar_style": "info",
            "max": 1,
            "_view_module": "@jupyter-widgets/controls",
            "_model_module_version": "1.5.0",
            "value": 1,
            "_view_count": null,
            "_view_module_version": "1.5.0",
            "orientation": "horizontal",
            "min": 0,
            "description_tooltip": null,
            "_model_module": "@jupyter-widgets/controls",
            "layout": "IPY_MODEL_e1b566dc87854f3da22d1d0a907aac49"
          }
        },
        "c80971c6aa7f4bbca7a22a9d72a9d851": {
          "model_module": "@jupyter-widgets/controls",
          "model_name": "HTMLModel",
          "state": {
            "_view_name": "HTMLView",
            "style": "IPY_MODEL_4c2e0982942a410d90ae8b788e985ad6",
            "_dom_classes": [],
            "description": "",
            "_model_name": "HTMLModel",
            "placeholder": "​",
            "_view_module": "@jupyter-widgets/controls",
            "_model_module_version": "1.5.0",
            "value": " 1654784/? [00:18&lt;00:00, 586195.21it/s]",
            "_view_count": null,
            "_view_module_version": "1.5.0",
            "description_tooltip": null,
            "_model_module": "@jupyter-widgets/controls",
            "layout": "IPY_MODEL_0186fb57f44b4260b87e56a9aa849e11"
          }
        },
        "42210aa6466b4524b6535af53fa733f2": {
          "model_module": "@jupyter-widgets/controls",
          "model_name": "ProgressStyleModel",
          "state": {
            "_view_name": "StyleView",
            "_model_name": "ProgressStyleModel",
            "description_width": "initial",
            "_view_module": "@jupyter-widgets/base",
            "_model_module_version": "1.5.0",
            "_view_count": null,
            "_view_module_version": "1.2.0",
            "bar_color": null,
            "_model_module": "@jupyter-widgets/controls"
          }
        },
        "e1b566dc87854f3da22d1d0a907aac49": {
          "model_module": "@jupyter-widgets/base",
          "model_name": "LayoutModel",
          "state": {
            "_view_name": "LayoutView",
            "grid_template_rows": null,
            "right": null,
            "justify_content": null,
            "_view_module": "@jupyter-widgets/base",
            "overflow": null,
            "_model_module_version": "1.2.0",
            "_view_count": null,
            "flex_flow": null,
            "width": null,
            "min_width": null,
            "border": null,
            "align_items": null,
            "bottom": null,
            "_model_module": "@jupyter-widgets/base",
            "top": null,
            "grid_column": null,
            "overflow_y": null,
            "overflow_x": null,
            "grid_auto_flow": null,
            "grid_area": null,
            "grid_template_columns": null,
            "flex": null,
            "_model_name": "LayoutModel",
            "justify_items": null,
            "grid_row": null,
            "max_height": null,
            "align_content": null,
            "visibility": null,
            "align_self": null,
            "height": null,
            "min_height": null,
            "padding": null,
            "grid_auto_rows": null,
            "grid_gap": null,
            "max_width": null,
            "order": null,
            "_view_module_version": "1.2.0",
            "grid_template_areas": null,
            "object_position": null,
            "object_fit": null,
            "grid_auto_columns": null,
            "margin": null,
            "display": null,
            "left": null
          }
        },
        "4c2e0982942a410d90ae8b788e985ad6": {
          "model_module": "@jupyter-widgets/controls",
          "model_name": "DescriptionStyleModel",
          "state": {
            "_view_name": "StyleView",
            "_model_name": "DescriptionStyleModel",
            "description_width": "",
            "_view_module": "@jupyter-widgets/base",
            "_model_module_version": "1.5.0",
            "_view_count": null,
            "_view_module_version": "1.2.0",
            "_model_module": "@jupyter-widgets/controls"
          }
        },
        "0186fb57f44b4260b87e56a9aa849e11": {
          "model_module": "@jupyter-widgets/base",
          "model_name": "LayoutModel",
          "state": {
            "_view_name": "LayoutView",
            "grid_template_rows": null,
            "right": null,
            "justify_content": null,
            "_view_module": "@jupyter-widgets/base",
            "overflow": null,
            "_model_module_version": "1.2.0",
            "_view_count": null,
            "flex_flow": null,
            "width": null,
            "min_width": null,
            "border": null,
            "align_items": null,
            "bottom": null,
            "_model_module": "@jupyter-widgets/base",
            "top": null,
            "grid_column": null,
            "overflow_y": null,
            "overflow_x": null,
            "grid_auto_flow": null,
            "grid_area": null,
            "grid_template_columns": null,
            "flex": null,
            "_model_name": "LayoutModel",
            "justify_items": null,
            "grid_row": null,
            "max_height": null,
            "align_content": null,
            "visibility": null,
            "align_self": null,
            "height": null,
            "min_height": null,
            "padding": null,
            "grid_auto_rows": null,
            "grid_gap": null,
            "max_width": null,
            "order": null,
            "_view_module_version": "1.2.0",
            "grid_template_areas": null,
            "object_position": null,
            "object_fit": null,
            "grid_auto_columns": null,
            "margin": null,
            "display": null,
            "left": null
          }
        },
        "82d36f0a6834416e9de3e830eaf95579": {
          "model_module": "@jupyter-widgets/controls",
          "model_name": "HBoxModel",
          "state": {
            "_view_name": "HBoxView",
            "_dom_classes": [],
            "_model_name": "HBoxModel",
            "_view_module": "@jupyter-widgets/controls",
            "_model_module_version": "1.5.0",
            "_view_count": null,
            "_view_module_version": "1.5.0",
            "box_style": "",
            "layout": "IPY_MODEL_ff898de00f204d48ba0ef415a05d3ae6",
            "_model_module": "@jupyter-widgets/controls",
            "children": [
              "IPY_MODEL_cbada1c32485457c99529334dd894d60",
              "IPY_MODEL_713c85a018464e50804c6bea03f1304f"
            ]
          }
        },
        "ff898de00f204d48ba0ef415a05d3ae6": {
          "model_module": "@jupyter-widgets/base",
          "model_name": "LayoutModel",
          "state": {
            "_view_name": "LayoutView",
            "grid_template_rows": null,
            "right": null,
            "justify_content": null,
            "_view_module": "@jupyter-widgets/base",
            "overflow": null,
            "_model_module_version": "1.2.0",
            "_view_count": null,
            "flex_flow": null,
            "width": null,
            "min_width": null,
            "border": null,
            "align_items": null,
            "bottom": null,
            "_model_module": "@jupyter-widgets/base",
            "top": null,
            "grid_column": null,
            "overflow_y": null,
            "overflow_x": null,
            "grid_auto_flow": null,
            "grid_area": null,
            "grid_template_columns": null,
            "flex": null,
            "_model_name": "LayoutModel",
            "justify_items": null,
            "grid_row": null,
            "max_height": null,
            "align_content": null,
            "visibility": null,
            "align_self": null,
            "height": null,
            "min_height": null,
            "padding": null,
            "grid_auto_rows": null,
            "grid_gap": null,
            "max_width": null,
            "order": null,
            "_view_module_version": "1.2.0",
            "grid_template_areas": null,
            "object_position": null,
            "object_fit": null,
            "grid_auto_columns": null,
            "margin": null,
            "display": null,
            "left": null
          }
        },
        "cbada1c32485457c99529334dd894d60": {
          "model_module": "@jupyter-widgets/controls",
          "model_name": "FloatProgressModel",
          "state": {
            "_view_name": "ProgressView",
            "style": "IPY_MODEL_3046f6d7b89b46cbafb1d68a59f96deb",
            "_dom_classes": [],
            "description": "  0%",
            "_model_name": "FloatProgressModel",
            "bar_style": "info",
            "max": 1,
            "_view_module": "@jupyter-widgets/controls",
            "_model_module_version": "1.5.0",
            "value": 0,
            "_view_count": null,
            "_view_module_version": "1.5.0",
            "orientation": "horizontal",
            "min": 0,
            "description_tooltip": null,
            "_model_module": "@jupyter-widgets/controls",
            "layout": "IPY_MODEL_b58adf1baa3e49d7b0adae9e3bf7fa6c"
          }
        },
        "713c85a018464e50804c6bea03f1304f": {
          "model_module": "@jupyter-widgets/controls",
          "model_name": "HTMLModel",
          "state": {
            "_view_name": "HTMLView",
            "style": "IPY_MODEL_ab01b885974e4e458b2545ceae00bc89",
            "_dom_classes": [],
            "description": "",
            "_model_name": "HTMLModel",
            "placeholder": "​",
            "_view_module": "@jupyter-widgets/controls",
            "_model_module_version": "1.5.0",
            "value": " 0/4542 [00:00&lt;?, ?it/s]",
            "_view_count": null,
            "_view_module_version": "1.5.0",
            "description_tooltip": null,
            "_model_module": "@jupyter-widgets/controls",
            "layout": "IPY_MODEL_459a8473b0fc4a1da2fe13393855311b"
          }
        },
        "3046f6d7b89b46cbafb1d68a59f96deb": {
          "model_module": "@jupyter-widgets/controls",
          "model_name": "ProgressStyleModel",
          "state": {
            "_view_name": "StyleView",
            "_model_name": "ProgressStyleModel",
            "description_width": "initial",
            "_view_module": "@jupyter-widgets/base",
            "_model_module_version": "1.5.0",
            "_view_count": null,
            "_view_module_version": "1.2.0",
            "bar_color": null,
            "_model_module": "@jupyter-widgets/controls"
          }
        },
        "b58adf1baa3e49d7b0adae9e3bf7fa6c": {
          "model_module": "@jupyter-widgets/base",
          "model_name": "LayoutModel",
          "state": {
            "_view_name": "LayoutView",
            "grid_template_rows": null,
            "right": null,
            "justify_content": null,
            "_view_module": "@jupyter-widgets/base",
            "overflow": null,
            "_model_module_version": "1.2.0",
            "_view_count": null,
            "flex_flow": null,
            "width": null,
            "min_width": null,
            "border": null,
            "align_items": null,
            "bottom": null,
            "_model_module": "@jupyter-widgets/base",
            "top": null,
            "grid_column": null,
            "overflow_y": null,
            "overflow_x": null,
            "grid_auto_flow": null,
            "grid_area": null,
            "grid_template_columns": null,
            "flex": null,
            "_model_name": "LayoutModel",
            "justify_items": null,
            "grid_row": null,
            "max_height": null,
            "align_content": null,
            "visibility": null,
            "align_self": null,
            "height": null,
            "min_height": null,
            "padding": null,
            "grid_auto_rows": null,
            "grid_gap": null,
            "max_width": null,
            "order": null,
            "_view_module_version": "1.2.0",
            "grid_template_areas": null,
            "object_position": null,
            "object_fit": null,
            "grid_auto_columns": null,
            "margin": null,
            "display": null,
            "left": null
          }
        },
        "ab01b885974e4e458b2545ceae00bc89": {
          "model_module": "@jupyter-widgets/controls",
          "model_name": "DescriptionStyleModel",
          "state": {
            "_view_name": "StyleView",
            "_model_name": "DescriptionStyleModel",
            "description_width": "",
            "_view_module": "@jupyter-widgets/base",
            "_model_module_version": "1.5.0",
            "_view_count": null,
            "_view_module_version": "1.2.0",
            "_model_module": "@jupyter-widgets/controls"
          }
        },
        "459a8473b0fc4a1da2fe13393855311b": {
          "model_module": "@jupyter-widgets/base",
          "model_name": "LayoutModel",
          "state": {
            "_view_name": "LayoutView",
            "grid_template_rows": null,
            "right": null,
            "justify_content": null,
            "_view_module": "@jupyter-widgets/base",
            "overflow": null,
            "_model_module_version": "1.2.0",
            "_view_count": null,
            "flex_flow": null,
            "width": null,
            "min_width": null,
            "border": null,
            "align_items": null,
            "bottom": null,
            "_model_module": "@jupyter-widgets/base",
            "top": null,
            "grid_column": null,
            "overflow_y": null,
            "overflow_x": null,
            "grid_auto_flow": null,
            "grid_area": null,
            "grid_template_columns": null,
            "flex": null,
            "_model_name": "LayoutModel",
            "justify_items": null,
            "grid_row": null,
            "max_height": null,
            "align_content": null,
            "visibility": null,
            "align_self": null,
            "height": null,
            "min_height": null,
            "padding": null,
            "grid_auto_rows": null,
            "grid_gap": null,
            "max_width": null,
            "order": null,
            "_view_module_version": "1.2.0",
            "grid_template_areas": null,
            "object_position": null,
            "object_fit": null,
            "grid_auto_columns": null,
            "margin": null,
            "display": null,
            "left": null
          }
        }
      }
    }
  },
  "cells": [
    {
      "cell_type": "markdown",
      "metadata": {
        "id": "mhBP69kgTwL5"
      },
      "source": [
        "# 1. 오차 역전파법에 대해\r\n",
        "모델을 경사하강법을 통해 손실 함수의 최솟값을 찾으며 학습 시키는데, 그때 기울기를 찾는 방법은 수치미분법과 오차역전파법이 있다.\r\n",
        "\r\n",
        "## 오차 역전파법\r\n",
        " - 수치미분법과 비교해서 압도적으로 속도가 빠르다.\r\n",
        " \r\n",
        " - 각 단계에서 입력값에 대해 미분을 하며 역전파 방향에서는 최종 결과값 z는 dz/dz, 각 역방향에서는 그 전 미분값을 가져온다.\r\n",
        "\r\n",
        "- x -> y -> z 이면 dy/dx, dz/dy, dz/dz 이고 z에서부터 전달하면 최종적으로 dy/dz x dz/dy x dz/dz 이고 결국 dz/dx로 z의 변화량/x의 변화량이다.\r\n",
        " x가 n만큼 변하면 최종 결과값 z가 ?만큼 변하는지 알 수 있다.\r\n"
      ]
    },
    {
      "cell_type": "code",
      "metadata": {
        "id": "Zp4Yls1uWmu0"
      },
      "source": [
        "# 덧셈의 역전파는 입력된 값을 그대로 다음 노드로 보낸다. \r\n",
        "# z = x + y\r\n",
        "# dz/dx = 1(x 미분, y는 상수취급 미분되어서 0), dz/dy = 1(y 미분, x 역시 미분되서 0)\r\n",
        "\r\n",
        "class AddLayer:\r\n",
        "  def __init__(self):\r\n",
        "    pass\r\n",
        "\r\n",
        "  def forward(self, x, y): # 덧셈은 그대로 더해서 다음 층으로 간다.\r\n",
        "    out = x + y\r\n",
        "    return out\r\n",
        "\r\n",
        "  def backward(self, dout): # 덧셈 역전은 E * 미분값이므로 결과값 그대로 역전\r\n",
        "    dx = dout * 1\r\n",
        "    dy = dout * 1\r\n",
        "    return dx, dy\r\n",
        "\r\n",
        "# 곱셈의 역전파는 \r\n",
        "# z = xy\r\n",
        "# dz/dx = y(x에 대해서 미분, x 미분되서 1되서 1 * y = y), dz/dy = x (편미분 동일)\r\n",
        "class MulLayer:\r\n",
        "  def __init__(self):\r\n",
        "    self.x = None\r\n",
        "    self.y = None\r\n",
        "\r\n",
        "  def forward(self, x, y): # 곱셈은 다음 층으로 곱셈 결과 넘어감\r\n",
        "    self.x = x\r\n",
        "    self.y = y\r\n",
        "    out = x*y\r\n",
        "\r\n",
        "    return out\r\n",
        "\r\n",
        "  def backward(self, dout): # 역전 역시 E * 미분값이므로 dx에는 결과값 * 미분값 y, dy에는 결과값 * 미분값 x가 전달된다.\r\n",
        "    dx = dout * y\r\n",
        "    dy = dout * x\r\n",
        "\r\n",
        "    return dx, dy"
      ],
      "execution_count": 39,
      "outputs": []
    },
    {
      "cell_type": "code",
      "metadata": {
        "colab": {
          "base_uri": "https://localhost:8080/",
          "height": 362
        },
        "id": "CGdsqG6f0a0R",
        "outputId": "9a1b692f-7005-4f68-f18f-6fa1a5b55dbf"
      },
      "source": [
        "#inputs\r\n",
        "apple = 100\r\n",
        "apple_num = 2\r\n",
        "orange = 150\r\n",
        "orange_num = 3\r\n",
        "tax = 1.1\r\n",
        "\r\n",
        "#layers\r\n",
        "mul_apple_layer = MulLayer()\r\n",
        "mul_orange_layer = MulLayer()\r\n",
        "add_apple_orange_layer = AddLayer()\r\n",
        "mul_tax_layer = MulLayer()\r\n",
        "\r\n",
        "#forward propagation\r\n",
        "apple_price = mul_apple_layer.forward(apple, apple_num)\r\n",
        "orange_price = mul_orange_layer.forward(orange, orange_num)\r\n",
        "all_price = add_apple_orange_layer.forward(apple_price, orange_price)\r\n",
        "price = mul_tax_layer.forward(all_price, tax)\r\n",
        "\r\n",
        "#back propagation\r\n",
        "dprice = 1\r\n",
        "dall_price, dtax = mul_tax_layer.backward(dprice)\r\n",
        "dapple_price, dorange_price = add_apple_orange_layer.backward(dall_price)\r\n",
        "dorange, dorange_num = mul_orange_layer.backward(dorange_price)\r\n",
        "dapple, dapple_num = mul_apple_layer.backward(dapple_price)\r\n",
        "\r\n",
        "print(price)\r\n",
        "print(dapple_num, dapple, dorange_num, dorange, dtax)"
      ],
      "execution_count": 40,
      "outputs": [
        {
          "output_type": "error",
          "ename": "NameError",
          "evalue": "ignored",
          "traceback": [
            "\u001b[0;31m---------------------------------------------------------------------------\u001b[0m",
            "\u001b[0;31mNameError\u001b[0m                                 Traceback (most recent call last)",
            "\u001b[0;32m<ipython-input-40-0533bae0a3ba>\u001b[0m in \u001b[0;36m<module>\u001b[0;34m()\u001b[0m\n\u001b[1;32m     20\u001b[0m \u001b[0;31m#back propagation\u001b[0m\u001b[0;34m\u001b[0m\u001b[0;34m\u001b[0m\u001b[0;34m\u001b[0m\u001b[0m\n\u001b[1;32m     21\u001b[0m \u001b[0mdprice\u001b[0m \u001b[0;34m=\u001b[0m \u001b[0;36m1\u001b[0m\u001b[0;34m\u001b[0m\u001b[0;34m\u001b[0m\u001b[0m\n\u001b[0;32m---> 22\u001b[0;31m \u001b[0mdall_price\u001b[0m\u001b[0;34m,\u001b[0m \u001b[0mdtax\u001b[0m \u001b[0;34m=\u001b[0m \u001b[0mmul_tax_layer\u001b[0m\u001b[0;34m.\u001b[0m\u001b[0mbackward\u001b[0m\u001b[0;34m(\u001b[0m\u001b[0mdprice\u001b[0m\u001b[0;34m)\u001b[0m\u001b[0;34m\u001b[0m\u001b[0;34m\u001b[0m\u001b[0m\n\u001b[0m\u001b[1;32m     23\u001b[0m \u001b[0mdapple_price\u001b[0m\u001b[0;34m,\u001b[0m \u001b[0mdorange_price\u001b[0m \u001b[0;34m=\u001b[0m \u001b[0madd_apple_orange_layer\u001b[0m\u001b[0;34m.\u001b[0m\u001b[0mbackward\u001b[0m\u001b[0;34m(\u001b[0m\u001b[0mdall_price\u001b[0m\u001b[0;34m)\u001b[0m\u001b[0;34m\u001b[0m\u001b[0;34m\u001b[0m\u001b[0m\n\u001b[1;32m     24\u001b[0m \u001b[0mdorange\u001b[0m\u001b[0;34m,\u001b[0m \u001b[0mdorange_num\u001b[0m \u001b[0;34m=\u001b[0m \u001b[0mmul_orange_layer\u001b[0m\u001b[0;34m.\u001b[0m\u001b[0mbackward\u001b[0m\u001b[0;34m(\u001b[0m\u001b[0mdorange_price\u001b[0m\u001b[0;34m)\u001b[0m\u001b[0;34m\u001b[0m\u001b[0;34m\u001b[0m\u001b[0m\n",
            "\u001b[0;32m<ipython-input-39-1db8e85c9753>\u001b[0m in \u001b[0;36mbackward\u001b[0;34m(self, dout)\u001b[0m\n\u001b[1;32m     32\u001b[0m \u001b[0;34m\u001b[0m\u001b[0m\n\u001b[1;32m     33\u001b[0m   \u001b[0;32mdef\u001b[0m \u001b[0mbackward\u001b[0m\u001b[0;34m(\u001b[0m\u001b[0mself\u001b[0m\u001b[0;34m,\u001b[0m \u001b[0mdout\u001b[0m\u001b[0;34m)\u001b[0m\u001b[0;34m:\u001b[0m \u001b[0;31m# 역전 역시 E * 미분값이므로 dx에는 결과값 * 미분값 y, dy에는 결과값 * 미분값 x가 전달된다.\u001b[0m\u001b[0;34m\u001b[0m\u001b[0;34m\u001b[0m\u001b[0m\n\u001b[0;32m---> 34\u001b[0;31m     \u001b[0mdx\u001b[0m \u001b[0;34m=\u001b[0m \u001b[0mdout\u001b[0m \u001b[0;34m*\u001b[0m \u001b[0my\u001b[0m\u001b[0;34m\u001b[0m\u001b[0;34m\u001b[0m\u001b[0m\n\u001b[0m\u001b[1;32m     35\u001b[0m     \u001b[0mdy\u001b[0m \u001b[0;34m=\u001b[0m \u001b[0mdout\u001b[0m \u001b[0;34m*\u001b[0m \u001b[0mx\u001b[0m\u001b[0;34m\u001b[0m\u001b[0;34m\u001b[0m\u001b[0m\n\u001b[1;32m     36\u001b[0m \u001b[0;34m\u001b[0m\u001b[0m\n",
            "\u001b[0;31mNameError\u001b[0m: name 'y' is not defined"
          ]
        }
      ]
    },
    {
      "cell_type": "markdown",
      "metadata": {
        "id": "vHaIz-P2TPAL"
      },
      "source": [
        "# MNIST 데이터를 통한 딥러닝 실습\r\n",
        "## 이미지 분류기 실습\r\n",
        "\r\n",
        "1. torchvision을 이용해서 학습/시험용 데이터셋을 불러오고, 정규화를 한다.\r\n",
        "\r\n",
        "2. layer를 정의한다.\r\n",
        "\r\n",
        "3. 손실 함수를 정의한다.\r\n",
        "\r\n",
        "4. 학습용 데이터를 사용해서 학습하고, 시험용 데이터를 통해 검사한다.\r\n",
        "\r\n",
        "단계 하나하나는 어떤 식으로 진행이 되는지 이해는 되지만, 코드 자체는 아직 익숙치 않아서 코드를 안 보고 치기는 어렵다.\r\n",
        "\r\n",
        "각 단계에 사용되는 메소드는 어떤 역할을 하는지 구글링을 해서 어떤 흐름인지 이해를 하는 식으로 실습을 진행했다."
      ]
    },
    {
      "cell_type": "code",
      "metadata": {
        "colab": {
          "base_uri": "https://localhost:8080/"
        },
        "id": "Hu3buVgaZrMC",
        "outputId": "8dd2a344-7644-4175-ab5c-02648bcc7650"
      },
      "source": [
        "!pip3 install torch torchvision"
      ],
      "execution_count": 2,
      "outputs": [
        {
          "output_type": "stream",
          "text": [
            "Requirement already satisfied: torch in /usr/local/lib/python3.6/dist-packages (1.7.0+cu101)\n",
            "Requirement already satisfied: torchvision in /usr/local/lib/python3.6/dist-packages (0.8.1+cu101)\n",
            "Requirement already satisfied: future in /usr/local/lib/python3.6/dist-packages (from torch) (0.16.0)\n",
            "Requirement already satisfied: typing-extensions in /usr/local/lib/python3.6/dist-packages (from torch) (3.7.4.3)\n",
            "Requirement already satisfied: dataclasses in /usr/local/lib/python3.6/dist-packages (from torch) (0.8)\n",
            "Requirement already satisfied: numpy in /usr/local/lib/python3.6/dist-packages (from torch) (1.19.5)\n",
            "Requirement already satisfied: pillow>=4.1.1 in /usr/local/lib/python3.6/dist-packages (from torchvision) (7.0.0)\n"
          ],
          "name": "stdout"
        }
      ]
    },
    {
      "cell_type": "code",
      "metadata": {
        "id": "7tiOcDhDZ39N"
      },
      "source": [
        "import torch\r\n",
        "import matplotlib.pyplot as plt\r\n",
        "import numpy as np\r\n",
        "import torch.nn.functional as F\r\n",
        "from torch import nn\r\n",
        "from torchvision import datasets, transforms"
      ],
      "execution_count": 3,
      "outputs": []
    },
    {
      "cell_type": "code",
      "metadata": {
        "colab": {
          "base_uri": "https://localhost:8080/",
          "height": 376,
          "referenced_widgets": [
            "4827007306564bbebb09b8d0a3a2a58a",
            "a1545b5b318e493e9abf6a6cdefc079e",
            "75f59645ce17459c8ed2bed7e6d7ed72",
            "0865cf31fa674b60b6d8563e53d72bd0",
            "b6fea4dff79b48af80e458aa19fabe99",
            "4d0ce63e92e44189b0be1e55a6ee1b46",
            "97f3b53c17604892a68ace8b94f9f121",
            "47be3ce572304fd78e70489254fb7f20",
            "387983ff28404f05a828220752dff73d",
            "00f75a4fa54e4abe8668ad47b0baab7d",
            "a035c58054414b80b4eed5233344ba47",
            "130f875e837642f797daed55f5685468",
            "8e5391e699f84a55b721af22bf816ff3",
            "7bc73dab7198456e861a72c21af2347d",
            "51c193ece4b34a868aea85190a03cfd9",
            "1f5b94a0cb8c4179aeab675d213aa51c",
            "193c2ab4649e430d8dbae1ae04d07131",
            "8d5f327621094826965caea1e1804c9f",
            "45b80f48cf7a47d59c0cfd98021a71a8",
            "c80971c6aa7f4bbca7a22a9d72a9d851",
            "42210aa6466b4524b6535af53fa733f2",
            "e1b566dc87854f3da22d1d0a907aac49",
            "4c2e0982942a410d90ae8b788e985ad6",
            "0186fb57f44b4260b87e56a9aa849e11",
            "82d36f0a6834416e9de3e830eaf95579",
            "ff898de00f204d48ba0ef415a05d3ae6",
            "cbada1c32485457c99529334dd894d60",
            "713c85a018464e50804c6bea03f1304f",
            "3046f6d7b89b46cbafb1d68a59f96deb",
            "b58adf1baa3e49d7b0adae9e3bf7fa6c",
            "ab01b885974e4e458b2545ceae00bc89",
            "459a8473b0fc4a1da2fe13393855311b"
          ]
        },
        "id": "Qd4AG5w5aHQ8",
        "outputId": "616ef9d0-2a4c-4788-f92f-5fee7389a523"
      },
      "source": [
        "# 데이터 전처리 진행\r\n",
        "# ToTensor()는 scaling (데이터의 scale을 줄여줌)\r\n",
        "# Normalize()는 cenering + scaling (scale을 줄이고 데이터의 중심을 원점으로 맞춰주는 것)\r\n",
        "transform = transforms.Compose([transforms.Resize((28,28)),\r\n",
        "                                transforms.ToTensor(), \r\n",
        "                                # numpy 이미지에서 torch 이미지로 변경\r\n",
        "                                transforms.Normalize((0.5,),(0.5,))\r\n",
        "                                # ToTensor()로 타입 변경시 0~1 사이의 값으로 변경\r\n",
        "                                # normalize를 이용해서 -1 ~ 1 사이의 값으로 정규화 \r\n",
        "                                ])\r\n",
        "\r\n",
        "training_dataset = datasets.MNIST(root='./data', train=True, download = True, transform = transform)\r\n",
        "validation_dataset = datasets.MNIST(root='./data', train=False, download=True, transform=transform)\r\n",
        "\r\n",
        "training_loader = torch.utils.data.DataLoader(training_dataset, batch_size = 100, shuffle=True)\r\n",
        "validation_loader = torch.utils.data.DataLoader(validation_dataset, batch_size = 100, shuffle=False)"
      ],
      "execution_count": 5,
      "outputs": [
        {
          "output_type": "stream",
          "text": [
            "Downloading http://yann.lecun.com/exdb/mnist/train-images-idx3-ubyte.gz to ./data/MNIST/raw/train-images-idx3-ubyte.gz\n"
          ],
          "name": "stdout"
        },
        {
          "output_type": "display_data",
          "data": {
            "application/vnd.jupyter.widget-view+json": {
              "model_id": "4827007306564bbebb09b8d0a3a2a58a",
              "version_minor": 0,
              "version_major": 2
            },
            "text/plain": [
              "HBox(children=(FloatProgress(value=1.0, bar_style='info', max=1.0), HTML(value='')))"
            ]
          },
          "metadata": {
            "tags": []
          }
        },
        {
          "output_type": "stream",
          "text": [
            "Extracting ./data/MNIST/raw/train-images-idx3-ubyte.gz to ./data/MNIST/raw\n",
            "Downloading http://yann.lecun.com/exdb/mnist/train-labels-idx1-ubyte.gz to ./data/MNIST/raw/train-labels-idx1-ubyte.gz\n"
          ],
          "name": "stdout"
        },
        {
          "output_type": "display_data",
          "data": {
            "application/vnd.jupyter.widget-view+json": {
              "model_id": "387983ff28404f05a828220752dff73d",
              "version_minor": 0,
              "version_major": 2
            },
            "text/plain": [
              "HBox(children=(FloatProgress(value=1.0, bar_style='info', max=1.0), HTML(value='')))"
            ]
          },
          "metadata": {
            "tags": []
          }
        },
        {
          "output_type": "stream",
          "text": [
            "Extracting ./data/MNIST/raw/train-labels-idx1-ubyte.gz to ./data/MNIST/raw\n",
            "Downloading http://yann.lecun.com/exdb/mnist/t10k-images-idx3-ubyte.gz to ./data/MNIST/raw/t10k-images-idx3-ubyte.gz\n"
          ],
          "name": "stdout"
        },
        {
          "output_type": "display_data",
          "data": {
            "application/vnd.jupyter.widget-view+json": {
              "model_id": "193c2ab4649e430d8dbae1ae04d07131",
              "version_minor": 0,
              "version_major": 2
            },
            "text/plain": [
              "HBox(children=(FloatProgress(value=1.0, bar_style='info', max=1.0), HTML(value='')))"
            ]
          },
          "metadata": {
            "tags": []
          }
        },
        {
          "output_type": "stream",
          "text": [
            "Extracting ./data/MNIST/raw/t10k-images-idx3-ubyte.gz to ./data/MNIST/raw\n",
            "Downloading http://yann.lecun.com/exdb/mnist/t10k-labels-idx1-ubyte.gz to ./data/MNIST/raw/t10k-labels-idx1-ubyte.gz\n"
          ],
          "name": "stdout"
        },
        {
          "output_type": "display_data",
          "data": {
            "application/vnd.jupyter.widget-view+json": {
              "model_id": "82d36f0a6834416e9de3e830eaf95579",
              "version_minor": 0,
              "version_major": 2
            },
            "text/plain": [
              "HBox(children=(FloatProgress(value=1.0, bar_style='info', max=1.0), HTML(value='')))"
            ]
          },
          "metadata": {
            "tags": []
          }
        },
        {
          "output_type": "stream",
          "text": [
            "Extracting ./data/MNIST/raw/t10k-labels-idx1-ubyte.gz to ./data/MNIST/raw\n",
            "Processing...\n",
            "Done!\n"
          ],
          "name": "stdout"
        },
        {
          "output_type": "stream",
          "text": [
            "/usr/local/lib/python3.6/dist-packages/torchvision/datasets/mnist.py:480: UserWarning: The given NumPy array is not writeable, and PyTorch does not support non-writeable tensors. This means you can write to the underlying (supposedly non-writeable) NumPy array using the tensor. You may want to copy the array to protect its data or make it writeable before converting it to a tensor. This type of warning will be suppressed for the rest of this program. (Triggered internally at  /pytorch/torch/csrc/utils/tensor_numpy.cpp:141.)\n",
            "  return torch.from_numpy(parsed.astype(m[2], copy=False)).view(*s)\n"
          ],
          "name": "stderr"
        }
      ]
    },
    {
      "cell_type": "code",
      "metadata": {
        "id": "xmIghBfZ4Fj9"
      },
      "source": [
        "def im_convert(tensor):\r\n",
        "  image = tensor.clone().detach().numpy()# tensor 복사 후 numpy()\r\n",
        "  image = image.transpose(1,2,0) # i,j,k -> j,k,i로 transpose\r\n",
        "  image = image * np.array((0.5, 0.5, 0.5)) + np.array((0.5, 0.5, 0.5))\r\n",
        "  image = image.clip(0, 1) # 0보다 작은 값은 0으로, 1보다 큰 값들은 1으로\r\n",
        "  return image\r\n",
        "\r\n",
        "  # tensor란 데이터의 배열\r\n",
        "  # tensor를 numpy로 변환하는 함수 "
      ],
      "execution_count": 7,
      "outputs": []
    },
    {
      "cell_type": "code",
      "metadata": {
        "colab": {
          "base_uri": "https://localhost:8080/",
          "height": 268
        },
        "id": "0FXhGOhh46Jj",
        "outputId": "fd6c0720-46c0-44a2-b515-aa49151d2aa3"
      },
      "source": [
        "dataiter = iter(training_loader)\r\n",
        "images, labels = dataiter.next()\r\n",
        "fig = plt.figure(figsize=(25,4))\r\n",
        "\r\n",
        "for idx in np.arange(20):\r\n",
        "  ax = fig.add_subplot(2, 10, idx + 1, xticks=[], yticks=[])\r\n",
        "  plt.imshow(im_convert(images[idx]))\r\n",
        "  ax.set_title([labels[idx].item()])"
      ],
      "execution_count": 10,
      "outputs": [
        {
          "output_type": "display_data",
          "data": {
            "image/png": "[encoded data removed]",
            "text/plain": [
              "<Figure size 1800x288 with 20 Axes>"
            ]
          },
          "metadata": {
            "tags": []
          }
        }
      ]
    },
    {
      "cell_type": "code",
      "metadata": {
        "id": "M4meUbb0CusS"
      },
      "source": [
        "class Classifier(nn.Module):\r\n",
        "\r\n",
        "  def __init__(self, D_in, H1, H2, D_out):\r\n",
        "    super().__init__()\r\n",
        "    self.linear1 = nn.Linear(D_in, H1)\r\n",
        "    self.linear2 = nn.Linear(H1, H2)\r\n",
        "    self.linear3 = nn.Linear(H2, D_out)\r\n",
        "    # model = nn.Linear(input_dim, output_dim)\r\n",
        "\r\n",
        "  def forward(self, x):\r\n",
        "    x = F.relu(self.linear1(x))\r\n",
        "    x = F.relu(self.linear2(x))\r\n",
        "    x = self.linear3(x)\r\n",
        "    return x\r\n",
        "    #활성화 함수는 relu 함수를 이용\r\n",
        "    # x <= 0일시 0, x >0 일시 x"
      ],
      "execution_count": 11,
      "outputs": []
    },
    {
      "cell_type": "code",
      "metadata": {
        "colab": {
          "base_uri": "https://localhost:8080/"
        },
        "id": "r0DvJhhFE2HE",
        "outputId": "25ed5b66-b8ed-4e9c-e2b6-310b317abd08"
      },
      "source": [
        "model = Classifier(784, 125, 65, 10)\r\n",
        "model"
      ],
      "execution_count": 12,
      "outputs": [
        {
          "output_type": "execute_result",
          "data": {
            "text/plain": [
              "Classifier(\n",
              "  (linear1): Linear(in_features=784, out_features=125, bias=True)\n",
              "  (linear2): Linear(in_features=125, out_features=65, bias=True)\n",
              "  (linear3): Linear(in_features=65, out_features=10, bias=True)\n",
              ")"
            ]
          },
          "metadata": {
            "tags": []
          },
          "execution_count": 12
        }
      ]
    },
    {
      "cell_type": "code",
      "metadata": {
        "id": "nqn-6jg3E637"
      },
      "source": [
        "criterion = nn.CrossEntropyLoss()\r\n",
        "# 다중분류를 위한 대표적인 손실함수\r\n",
        "# 회귀에서는 보통 MSE가 쓰인다.\r\n",
        "# nn.LogSoftmax(softmax함수의 결과에 log) + nn.NLLLoss 연산의 조합\r\n",
        "optimizer = torch.optim.Adam(model.parameters(), lr = 0.0001)\r\n",
        "# 최적화 Adam 사용"
      ],
      "execution_count": 13,
      "outputs": []
    },
    {
      "cell_type": "code",
      "metadata": {
        "colab": {
          "base_uri": "https://localhost:8080/"
        },
        "id": "Cehn8u4GFC52",
        "outputId": "7167ea2c-f355-4191-956f-2a28a8109beb"
      },
      "source": [
        "epochs = 15\r\n",
        "running_loss_history = []\r\n",
        "running_corrects_history = []\r\n",
        "val_running_loss_history = []\r\n",
        "val_running_corrects_history = []\r\n",
        "\r\n",
        "for e in range(epochs):\r\n",
        "  \r\n",
        "  running_loss = 0.0\r\n",
        "  running_corrects = 0.0\r\n",
        "  val_running_loss = 0.0\r\n",
        "  val_running_corrects = 0.0\r\n",
        "  \r\n",
        "  for inputs, labels in training_loader: # 100장씩 사진 input\r\n",
        "    inputs = inputs.view(inputs.shape[0], -1)\r\n",
        "    outputs = model(inputs) # 100장 입력, 100장 출력, forward\r\n",
        "    loss = criterion(outputs, labels)\r\n",
        "    \r\n",
        "    optimizer.zero_grad()\r\n",
        "    loss.backward() # 역전파\r\n",
        "    optimizer.step()\r\n",
        "    \r\n",
        "    _, preds = torch.max(outputs, 1)\r\n",
        "    running_loss += loss.item()\r\n",
        "    running_corrects += torch.sum(preds == labels.data)\r\n",
        "\r\n",
        "  else:\r\n",
        "    with torch.no_grad():\r\n",
        "      for val_inputs, val_labels in validation_loader:\r\n",
        "        val_inputs = val_inputs.view(val_inputs.shape[0], -1)\r\n",
        "        val_outputs = model(val_inputs)\r\n",
        "        val_loss = criterion(val_outputs, val_labels)\r\n",
        "        \r\n",
        "        _, val_preds = torch.max(val_outputs, 1)\r\n",
        "        val_running_loss += val_loss.item()\r\n",
        "        val_running_corrects += torch.sum(val_preds == val_labels.data)\r\n",
        "      \r\n",
        "    epoch_loss = running_loss/len(training_loader)\r\n",
        "    epoch_acc = running_corrects.float()/ len(training_loader)\r\n",
        "    running_loss_history.append(epoch_loss)\r\n",
        "    running_corrects_history.append(epoch_acc)\r\n",
        "    \r\n",
        "    val_epoch_loss = val_running_loss/len(validation_loader)\r\n",
        "    val_epoch_acc = val_running_corrects.float()/ len(validation_loader)\r\n",
        "    val_running_loss_history.append(val_epoch_loss)\r\n",
        "    val_running_corrects_history.append(val_epoch_acc)\r\n",
        "    print('epoch :', (e+1))\r\n",
        "    print('training loss: {:.4f}, acc {:.4f} '.format(epoch_loss, epoch_acc.item()))\r\n",
        "    print('validation loss: {:.4f}, validation acc {:.4f} '.format(val_epoch_loss, val_epoch_acc.item()))"
      ],
      "execution_count": 14,
      "outputs": [
        {
          "output_type": "stream",
          "text": [
            "epoch : 1\n",
            "training loss: 0.9326, acc 77.2550 \n",
            "validation loss: 0.4111, validation acc 88.9100 \n",
            "epoch : 2\n",
            "training loss: 0.3704, acc 89.6267 \n",
            "validation loss: 0.3199, validation acc 90.9600 \n",
            "epoch : 3\n",
            "training loss: 0.3076, acc 91.1150 \n",
            "validation loss: 0.2759, validation acc 92.3200 \n",
            "epoch : 4\n",
            "training loss: 0.2739, acc 92.0800 \n",
            "validation loss: 0.2495, validation acc 92.8700 \n",
            "epoch : 5\n",
            "training loss: 0.2508, acc 92.7050 \n",
            "validation loss: 0.2303, validation acc 93.4200 \n",
            "epoch : 6\n",
            "training loss: 0.2296, acc 93.4300 \n",
            "validation loss: 0.2144, validation acc 93.7000 \n",
            "epoch : 7\n",
            "training loss: 0.2125, acc 93.8500 \n",
            "validation loss: 0.2046, validation acc 94.0400 \n",
            "epoch : 8\n",
            "training loss: 0.1976, acc 94.2567 \n",
            "validation loss: 0.1912, validation acc 94.4500 \n",
            "epoch : 9\n",
            "training loss: 0.1853, acc 94.6200 \n",
            "validation loss: 0.1872, validation acc 94.4700 \n",
            "epoch : 10\n",
            "training loss: 0.1736, acc 94.9750 \n",
            "validation loss: 0.1699, validation acc 95.0800 \n",
            "epoch : 11\n",
            "training loss: 0.1633, acc 95.2417 \n",
            "validation loss: 0.1616, validation acc 95.3000 \n",
            "epoch : 12\n",
            "training loss: 0.1545, acc 95.4450 \n",
            "validation loss: 0.1523, validation acc 95.5900 \n",
            "epoch : 13\n",
            "training loss: 0.1459, acc 95.7367 \n",
            "validation loss: 0.1480, validation acc 95.6500 \n",
            "epoch : 14\n",
            "training loss: 0.1390, acc 95.9383 \n",
            "validation loss: 0.1402, validation acc 95.8000 \n",
            "epoch : 15\n",
            "training loss: 0.1316, acc 96.1500 \n",
            "validation loss: 0.1342, validation acc 95.9400 \n"
          ],
          "name": "stdout"
        }
      ]
    },
    {
      "cell_type": "code",
      "metadata": {
        "colab": {
          "base_uri": "https://localhost:8080/",
          "height": 282
        },
        "id": "5DEHf0WaIr5B",
        "outputId": "45a271e7-4104-4565-9cf9-1269ba4167e1"
      },
      "source": [
        "plt.plot(running_loss_history, label='training loss')\r\n",
        "plt.plot(val_running_loss_history, label='validation loss')\r\n",
        "plt.legend()"
      ],
      "execution_count": 15,
      "outputs": [
        {
          "output_type": "execute_result",
          "data": {
            "text/plain": [
              "<matplotlib.legend.Legend at 0x7f3d85e783c8>"
            ]
          },
          "metadata": {
            "tags": []
          },
          "execution_count": 15
        },
        {
          "output_type": "display_data",
          "data": {
            "image/png": "[encoded data removed]",
            "text/plain": [
              "<Figure size 432x288 with 1 Axes>"
            ]
          },
          "metadata": {
            "tags": [],
            "needs_background": "light"
          }
        }
      ]
    },
    {
      "cell_type": "code",
      "metadata": {
        "colab": {
          "base_uri": "https://localhost:8080/",
          "height": 282
        },
        "id": "M27e9Lu5JsrB",
        "outputId": "82e050d5-bcfc-4bdc-d82a-972f270a57a6"
      },
      "source": [
        "plt.plot(running_corrects_history, label='training accuracy')\r\n",
        "plt.plot(val_running_corrects_history, label='validation accuracy')\r\n",
        "plt.legend()"
      ],
      "execution_count": 16,
      "outputs": [
        {
          "output_type": "execute_result",
          "data": {
            "text/plain": [
              "<matplotlib.legend.Legend at 0x7f3d85f95390>"
            ]
          },
          "metadata": {
            "tags": []
          },
          "execution_count": 16
        },
        {
          "output_type": "display_data",
          "data": {
            "image/png": "[encoded data removed]",
            "text/plain": [
              "<Figure size 432x288 with 1 Axes>"
            ]
          },
          "metadata": {
            "tags": [],
            "needs_background": "light"
          }
        }
      ]
    },
    {
      "cell_type": "markdown",
      "metadata": {
        "id": "YEAhqcXkRO02"
      },
      "source": [
        ""
      ]
    }
  ]
}