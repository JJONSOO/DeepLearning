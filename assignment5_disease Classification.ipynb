{
 "metadata": {
  "language_info": {
   "codemirror_mode": {
    "name": "ipython",
    "version": 3
   },
   "file_extension": ".py",
   "mimetype": "text/x-python",
   "name": "python",
   "nbconvert_exporter": "python",
   "pygments_lexer": "ipython3",
   "version": "3.8.5-final"
  },
  "orig_nbformat": 2,
  "kernelspec": {
   "name": "python3",
   "display_name": "Python 3",
   "language": "python"
  }
 },
 "nbformat": 4,
 "nbformat_minor": 2,
 "cells": [
  {
   "source": [
    "# 1. 데이터 train_data와 test_test로 분류하기\n",
    "\n",
    " - datset에는 총 16000장의 병충해 이미지 데이터가 있다.\n",
    " - label.json에는 총 12800장에 대한 라벨링이 되어 있음 = train_data로 이용\n",
    " - 따라서 datset에서 label.json에 없는 이미지(라벨링이 되지 않은 이미지)를 따로 빼서 test_data에 저장해야한다."
   ],
   "cell_type": "markdown",
   "metadata": {}
  },
  {
   "cell_type": "code",
   "execution_count": 41,
   "metadata": {},
   "outputs": [],
   "source": [
    "import os\n",
    "import json\n",
    "\n",
    "path_dir = './datset'\n",
    "\n",
    "file_list = os.listdir(path_dir) # 사이즈 16000개\n",
    "test_list = os.listdir(path_dir)\n",
    "\n",
    "file = open('./label.json')\n",
    "jsonString = json.load(file)\n",
    "train_list = []\n",
    "for i in jsonString['train']:\n",
    "    train_list.append(i[0])\n",
    "# train_list 총 12800개\n",
    "\n",
    "for i in train_list:\n",
    "    test_list.remove(i)\n",
    "# 전체 데이터에서 train데이터삭제 후 남은 데이터 = test데이터(3200개)"
   ]
  },
  {
   "cell_type": "code",
   "execution_count": 42,
   "metadata": {},
   "outputs": [],
   "source": [
    "import shutil\n",
    "#src에 있는 파일을 dir로 이동.\n",
    "src = './datset/'\n",
    "dir_test = './test_data/'\n",
    "dir_train = './train_data/'\n",
    "for filename in test_list:\n",
    "    shutil.move(src+filename, dir_test+filename)\n",
    "\n",
    "for filename in train_list:\n",
    "    shutil.move(src+filename, dir_train+filename)\n",
    "\n",
    "# 이미지 폴더로 분류 완료"
   ]
  },
  {
   "source": [
    "# 2. train dataset 이미지를 전처리하기\n",
    "\n",
    "- transpose를 이용해서 전처리하기\n",
    "- image augmentation을 이용하기\n",
    "- 딥러닝 모델에 맞게 사이즈 줄이기\n"
   ],
   "cell_type": "markdown",
   "metadata": {}
  }
 ]
}